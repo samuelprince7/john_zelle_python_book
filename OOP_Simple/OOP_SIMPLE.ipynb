{
 "cells": [
  {
   "cell_type": "markdown",
   "id": "f2cc838c",
   "metadata": {},
   "source": [
    "Classes and Encapsulation"
   ]
  },
  {
   "cell_type": "markdown",
   "id": "a787e87f",
   "metadata": {},
   "source": [
    "- Student is the class name\n",
    "- name, grade, and age are attributes \n",
    "- The __ init __ initializer is a method\n",
    "- you can now create objects "
   ]
  },
  {
   "cell_type": "code",
   "execution_count": 1,
   "id": "0a51d9a5",
   "metadata": {},
   "outputs": [],
   "source": [
    "class Student:\n",
    "    \n",
    "    def __init__(self, name, grade, age):\n",
    "        self.name = name\n",
    "        self.grade = grade\n",
    "        self.age = age"
   ]
  },
  {
   "cell_type": "markdown",
   "id": "f70b16a1",
   "metadata": {},
   "source": [
    "kitty an daniel are objects"
   ]
  },
  {
   "cell_type": "code",
   "execution_count": 2,
   "id": "684cedaa",
   "metadata": {},
   "outputs": [],
   "source": [
    "kitty = Student('Kitty', 85, 30)"
   ]
  },
  {
   "cell_type": "code",
   "execution_count": 3,
   "id": "c7f16bb2",
   "metadata": {},
   "outputs": [],
   "source": [
    "daniel = Student('Daniel', 80, 15)"
   ]
  },
  {
   "cell_type": "code",
   "execution_count": 4,
   "id": "06dad1b3",
   "metadata": {},
   "outputs": [
    {
     "name": "stdout",
     "output_type": "stream",
     "text": [
      "Kitty\n",
      "Daniel\n"
     ]
    }
   ],
   "source": [
    "print(kitty.name)\n",
    "print(daniel.name)"
   ]
  },
  {
   "cell_type": "code",
   "execution_count": 5,
   "id": "ddbac775",
   "metadata": {},
   "outputs": [
    {
     "name": "stdout",
     "output_type": "stream",
     "text": [
      "85\n",
      "80\n"
     ]
    }
   ],
   "source": [
    "print(kitty.grade)\n",
    "print(daniel.grade)"
   ]
  },
  {
   "cell_type": "code",
   "execution_count": null,
   "id": "d7a12da8",
   "metadata": {},
   "outputs": [],
   "source": []
  },
  {
   "cell_type": "code",
   "execution_count": null,
   "id": "f2522096",
   "metadata": {},
   "outputs": [],
   "source": []
  }
 ],
 "metadata": {
  "kernelspec": {
   "display_name": "Python 3",
   "language": "python",
   "name": "python3"
  },
  "language_info": {
   "codemirror_mode": {
    "name": "ipython",
    "version": 3
   },
   "file_extension": ".py",
   "mimetype": "text/x-python",
   "name": "python",
   "nbconvert_exporter": "python",
   "pygments_lexer": "ipython3",
   "version": "3.8.8"
  }
 },
 "nbformat": 4,
 "nbformat_minor": 5
}
